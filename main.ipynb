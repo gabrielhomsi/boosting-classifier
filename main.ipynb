{
 "cells": [
  {
   "cell_type": "markdown",
   "metadata": {},
   "source": [
    "# Read data"
   ]
  },
  {
   "cell_type": "code",
   "execution_count": 1,
   "metadata": {
    "collapsed": false
   },
   "outputs": [],
   "source": [
    "import pickle\n",
    "import gzip\n",
    "import random\n",
    "import math\n",
    "import matplotlib.pyplot as plt\n",
    "import numpy as np\n",
    "\n",
    "random.seed(1)\n",
    "\n",
    "# Load the dataset\n",
    "f = gzip.open('mnist.pkl.gz', 'rb')\n",
    "train_set, valid_set, test_set = pickle.load(f, encoding='latin1')\n",
    "f.close()"
   ]
  },
  {
   "cell_type": "markdown",
   "metadata": {},
   "source": [
    "# Split train / test"
   ]
  },
  {
   "cell_type": "code",
   "execution_count": 2,
   "metadata": {
    "collapsed": false
   },
   "outputs": [],
   "source": [
    "train_set_x = train_set[0]\n",
    "train_set_y = train_set[1]\n",
    "\n",
    "test_set_x = test_set[0]\n",
    "test_set_y = test_set[1]"
   ]
  },
  {
   "cell_type": "markdown",
   "metadata": {},
   "source": [
    "# Extract desired points"
   ]
  },
  {
   "cell_type": "code",
   "execution_count": 3,
   "metadata": {
    "collapsed": false
   },
   "outputs": [],
   "source": [
    "c1 = 7\n",
    "c2 = 9\n",
    "\n",
    "X_train = []\n",
    "Y_train = []\n",
    "\n",
    "for i, y in enumerate(train_set_y):\n",
    "    if y not in [c1, c2]: continue\n",
    "    X_train.append(np.array(train_set_x[i]))\n",
    "    \n",
    "    if y == c1:\n",
    "        Y_train.append(-1)\n",
    "    if y == c2:\n",
    "        Y_train.append(1)\n",
    "\n",
    "X_train = np.array(X_train)\n",
    "Y_train = np.array(Y_train)\n",
    "\n",
    "X_test = []\n",
    "Y_test = []\n",
    "\n",
    "for i, y in enumerate(test_set_y):\n",
    "    if y not in [c1, c2]:\n",
    "        continue\n",
    "    X_test.append(np.array(test_set_x[i]))\n",
    "    \n",
    "    if y == c1:\n",
    "        Y_test.append(-1)\n",
    "    if y == c2:\n",
    "        Y_test.append(1)\n",
    "\n",
    "X_test = np.array(X_test)\n",
    "Y_test = np.array(Y_test)"
   ]
  },
  {
   "cell_type": "code",
   "execution_count": 4,
   "metadata": {
    "collapsed": false
   },
   "outputs": [
    {
     "name": "stdout",
     "output_type": "stream",
     "text": [
      "Shape of test set:\t(2037,\t784)\n",
      "Shape of train set:\t(10163,\t784)\n"
     ]
    }
   ],
   "source": [
    "print(\"Shape of test set:\\t(%d,\\t%d)\" % X_test.shape)\n",
    "print(\"Shape of train set:\\t(%d,\\t%d)\" % X_train.shape)"
   ]
  },
  {
   "cell_type": "markdown",
   "metadata": {},
   "source": [
    "# Plotting data points"
   ]
  },
  {
   "cell_type": "code",
   "execution_count": 5,
   "metadata": {
    "collapsed": false
   },
   "outputs": [
    {
     "data": {
      "image/png": "[encoded data removed]",
      "text/plain": [
       "<Figure size 432x288 with 1 Axes>"
      ]
     },
     "metadata": {},
     "output_type": "display_data"
    },
    {
     "data": {
      "image/png": "[encoded data removed]",
      "text/plain": [
       "<Figure size 432x288 with 1 Axes>"
      ]
     },
     "metadata": {},
     "output_type": "display_data"
    },
    {
     "data": {
      "image/png": "[encoded data removed]",
      "text/plain": [
       "<Figure size 432x288 with 1 Axes>"
      ]
     },
     "metadata": {},
     "output_type": "display_data"
    }
   ],
   "source": [
    "def show_img(x):\n",
    "    pixels = len(x)\n",
    "    width = height = int(np.sqrt(pixels))\n",
    "    \n",
    "    m = np.zeros((width, height))\n",
    "\n",
    "    for i in range(width):\n",
    "        for j in range(height):\n",
    "            m[i][j] = x[(i % width) * height + j]\n",
    "\n",
    "    plt.imshow(m)\n",
    "    plt.show()\n",
    "\n",
    "show_img(X_train[0])\n",
    "show_img(X_train[1])\n",
    "show_img(X_train[2])"
   ]
  },
  {
   "cell_type": "markdown",
   "metadata": {},
   "source": [
    "# Generating random classifiers"
   ]
  },
  {
   "cell_type": "code",
   "execution_count": 6,
   "metadata": {
    "collapsed": false
   },
   "outputs": [],
   "source": [
    "def random_classifier(k, classA, classB):\n",
    "    cut = np.random.random()\n",
    "    \n",
    "    classes = [classA, classB]\n",
    "    random.shuffle(classes)\n",
    "    \n",
    "    def c(X):\n",
    "        Y = np.zeros(X.shape[0])\n",
    "        Y.fill(classes[0])\n",
    "        Y[X[:, k] > cut] = classes[1]\n",
    "        \n",
    "        return Y\n",
    "    \n",
    "    return c\n",
    "\n",
    "m = X_train.shape[1] # number of pixels\n",
    "\n",
    "C = [random_classifier(k, -1, 1) for k in range(m)] # random classifiers"
   ]
  },
  {
   "cell_type": "markdown",
   "metadata": {},
   "source": [
    "# Evaluating random classifiers"
   ]
  },
  {
   "cell_type": "code",
   "execution_count": 7,
   "metadata": {
    "collapsed": true
   },
   "outputs": [],
   "source": [
    "def score(H, X, Y):\n",
    "    right = 0\n",
    "    wrong = 0\n",
    "    \n",
    "    V = np.zeros(X.shape[0])\n",
    "    \n",
    "    for c, alpha in H:\n",
    "        Y_pred = c(X)\n",
    "        \n",
    "        V += Y_pred * alpha\n",
    "    \n",
    "    for i, v in enumerate(V):\n",
    "        v = np.sign(v)\n",
    "\n",
    "        if v == Y[i]:\n",
    "            right += 1\n",
    "        else:\n",
    "            wrong += 1\n",
    "    \n",
    "    return right / float(right + wrong)"
   ]
  },
  {
   "cell_type": "code",
   "execution_count": 8,
   "metadata": {
    "collapsed": false
   },
   "outputs": [
    {
     "data": {
      "image/png": "[encoded data removed]",
      "text/plain": [
       "<Figure size 432x288 with 1 Axes>"
      ]
     },
     "metadata": {},
     "output_type": "display_data"
    }
   ],
   "source": [
    "x = []\n",
    "\n",
    "for c in C:\n",
    "    P = [(c, 1)]\n",
    "    x.append(score(P, X_train, Y_train))\n",
    "\n",
    "plt.hist(x)\n",
    "plt.xlabel(\"score\")\n",
    "plt.ylabel(\"freq\")\n",
    "plt.show()"
   ]
  },
  {
   "cell_type": "code",
   "execution_count": 9,
   "metadata": {
    "collapsed": false
   },
   "outputs": [],
   "source": [
    "def error(c, X, Y, p):\n",
    "    frac = 0\n",
    "    \n",
    "    Y_pred = c(X)\n",
    "    \n",
    "    frac = np.sum(p[Y != Y_pred])\n",
    "    \n",
    "    return frac\n",
    "\n",
    "def ada_boost(C, X, Y, gamma = 0.01):\n",
    "    n = X.shape[0] # number of images\n",
    "    \n",
    "    H = [] # ensemble\n",
    "    \n",
    "    v = np.zeros(n)\n",
    "    \n",
    "    right = 0\n",
    "    wrong = 0\n",
    "    \n",
    "    score_history = []\n",
    "    \n",
    "    T = 4 * int(math.log(n))\n",
    "    \n",
    "    w = np.array([1.0 for k in range(n)])\n",
    "    p = np.array([1.0 / n for k in range(n)]) # normalized points weights\n",
    "    \n",
    "    for t in range(1, T + 1): # generate T classifiers\n",
    "        # find a gamma weak learner\n",
    "        errors = np.array([error(c, X, Y, p) for i, c in enumerate(C)])\n",
    "        i = np.argmin(errors)\n",
    "        e = errors[i]\n",
    "        \n",
    "        if 1 - e < 0.5 + 0.01:\n",
    "            print(\"Error: no gamma weak learner found for gamma = %lf\" % gamma)\n",
    "            \n",
    "            return H, score_history\n",
    "        \n",
    "        c = C[i]\n",
    "        \n",
    "        Y_pred = c(X)\n",
    "        \n",
    "        alpha = 0.5 * np.log((1 - e) / e)\n",
    "        \n",
    "        H.append((c, alpha))\n",
    "        \n",
    "        for i, x in enumerate(X):\n",
    "            v[i] += Y_pred[i] * alpha\n",
    "            \n",
    "            if np.sign(v[i]) == Y[i]:\n",
    "                right += 1\n",
    "            else:\n",
    "                wrong += 1\n",
    "        \n",
    "        score = right / float(right + wrong)\n",
    "        score_history.append(score)\n",
    "        \n",
    "        if t > 0:\n",
    "            print(\"t = %d/%d, score = %lf\" % (t, T, score))\n",
    "        \n",
    "        if score > 0.99:\n",
    "            return H, score_history\n",
    "        \n",
    "        w = w * np.exp(-1 * alpha * Y * Y_pred)\n",
    "        p = w / np.sum(w)\n",
    "        \n",
    "    return H, score_history"
   ]
  },
  {
   "cell_type": "markdown",
   "metadata": {},
   "source": [
    "# Running boosting"
   ]
  },
  {
   "cell_type": "code",
   "execution_count": 10,
   "metadata": {
    "collapsed": false
   },
   "outputs": [
    {
     "name": "stdout",
     "output_type": "stream",
     "text": [
      "t = 1/36, score = 0.804585\n",
      "t = 2/36, score = 0.804585\n",
      "t = 3/36, score = 0.812588\n",
      "t = 4/36, score = 0.818213\n",
      "t = 5/36, score = 0.823064\n",
      "t = 6/36, score = 0.828414\n",
      "t = 7/36, score = 0.835538\n",
      "t = 8/36, score = 0.840512\n",
      "t = 9/36, score = 0.844556\n",
      "t = 10/36, score = 0.848303\n",
      "t = 11/36, score = 0.851824\n",
      "t = 12/36, score = 0.855235\n",
      "t = 13/36, score = 0.857969\n",
      "t = 14/36, score = 0.861275\n",
      "t = 15/36, score = 0.863833\n",
      "t = 16/36, score = 0.866519\n",
      "t = 17/36, score = 0.868855\n",
      "t = 18/36, score = 0.870915\n",
      "t = 19/36, score = 0.872924\n",
      "t = 20/36, score = 0.874747\n",
      "t = 21/36, score = 0.876518\n",
      "t = 22/36, score = 0.878177\n",
      "t = 23/36, score = 0.879632\n",
      "t = 24/36, score = 0.881031\n",
      "t = 25/36, score = 0.882417\n",
      "t = 26/36, score = 0.883741\n",
      "t = 27/36, score = 0.885084\n",
      "t = 28/36, score = 0.886282\n",
      "t = 29/36, score = 0.887408\n",
      "t = 30/36, score = 0.888478\n",
      "t = 31/36, score = 0.889469\n",
      "t = 32/36, score = 0.890424\n",
      "t = 33/36, score = 0.891323\n",
      "t = 34/36, score = 0.892219\n",
      "t = 35/36, score = 0.893055\n",
      "t = 36/36, score = 0.893910\n"
     ]
    }
   ],
   "source": [
    "H, score_history = ada_boost(C, X_train, Y_train)"
   ]
  },
  {
   "cell_type": "markdown",
   "metadata": {},
   "source": [
    "# Plotting score history"
   ]
  },
  {
   "cell_type": "code",
   "execution_count": 11,
   "metadata": {
    "collapsed": false
   },
   "outputs": [
    {
     "data": {
      "image/png": "[encoded data removed]",
      "text/plain": [
       "<Figure size 432x288 with 1 Axes>"
      ]
     },
     "metadata": {},
     "output_type": "display_data"
    }
   ],
   "source": [
    "x = range(1, len(score_history) + 1)\n",
    "plt.scatter(x, score_history)\n",
    "plt.xlabel(\"t\")\n",
    "plt.ylabel(\"score\")\n",
    "plt.show()"
   ]
  },
  {
   "cell_type": "markdown",
   "metadata": {},
   "source": [
    "# Evaluating train set"
   ]
  },
  {
   "cell_type": "code",
   "execution_count": 12,
   "metadata": {
    "collapsed": false
   },
   "outputs": [
    {
     "data": {
      "text/plain": [
       "0.9238413854176917"
      ]
     },
     "execution_count": 12,
     "metadata": {},
     "output_type": "execute_result"
    }
   ],
   "source": [
    "score(H, X_train, Y_train)"
   ]
  },
  {
   "cell_type": "markdown",
   "metadata": {},
   "source": [
    "# Evaluating test set"
   ]
  },
  {
   "cell_type": "code",
   "execution_count": 13,
   "metadata": {
    "collapsed": false
   },
   "outputs": [
    {
     "data": {
      "text/plain": [
       "0.9317623956799215"
      ]
     },
     "execution_count": 13,
     "metadata": {},
     "output_type": "execute_result"
    }
   ],
   "source": [
    "score(H, X_test, Y_test)"
   ]
  },
  {
   "cell_type": "markdown",
   "metadata": {},
   "source": [
    "# Alphas"
   ]
  },
  {
   "cell_type": "code",
   "execution_count": 14,
   "metadata": {
    "collapsed": false
   },
   "outputs": [
    {
     "data": {
      "image/png": "[encoded data removed]",
      "text/plain": [
       "<Figure size 432x288 with 1 Axes>"
      ]
     },
     "metadata": {},
     "output_type": "display_data"
    }
   ],
   "source": [
    "y = []\n",
    "\n",
    "for cl, alpha in H:\n",
    "    y.append(alpha)\n",
    "\n",
    "x = range(1, len(y) + 1)\n",
    "plt.scatter(x, y)\n",
    "plt.xlabel(\"t\")\n",
    "plt.ylabel(\"alpha\")\n",
    "plt.show()"
   ]
  }
 ],
 "metadata": {
  "kernelspec": {
   "display_name": "Python 3",
   "language": "python",
   "name": "python3"
  },
  "language_info": {
   "codemirror_mode": {
    "name": "ipython",
    "version": 3
   },
   "file_extension": ".py",
   "mimetype": "text/x-python",
   "name": "python",
   "nbconvert_exporter": "python",
   "pygments_lexer": "ipython3",
   "version": "3.5.4"
  }
 },
 "nbformat": 4,
 "nbformat_minor": 2
}
